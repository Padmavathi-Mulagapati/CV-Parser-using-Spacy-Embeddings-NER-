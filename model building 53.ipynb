{
  "nbformat": 4,
  "nbformat_minor": 0,
  "metadata": {
    "colab": {
      "provenance": [],
      "gpuType": "T4"
    },
    "kernelspec": {
      "name": "python3",
      "display_name": "Python 3"
    },
    "language_info": {
      "name": "python"
    },
    "accelerator": "GPU"
  },
  "cells": [
    {
      "cell_type": "code",
      "execution_count": 1,
      "metadata": {
        "colab": {
          "base_uri": "https://localhost:8080/"
        },
        "id": "uduWtlS3CY12",
        "outputId": "0bb0e431-51d1-4d0d-aa2b-eeb697f8a76d"
      },
      "outputs": [
        {
          "output_type": "stream",
          "name": "stdout",
          "text": [
            "Requirement already satisfied: spacy in /usr/local/lib/python3.11/dist-packages (3.8.5)\n",
            "Requirement already satisfied: spacy-legacy<3.1.0,>=3.0.11 in /usr/local/lib/python3.11/dist-packages (from spacy) (3.0.12)\n",
            "Requirement already satisfied: spacy-loggers<2.0.0,>=1.0.0 in /usr/local/lib/python3.11/dist-packages (from spacy) (1.0.5)\n",
            "Requirement already satisfied: murmurhash<1.1.0,>=0.28.0 in /usr/local/lib/python3.11/dist-packages (from spacy) (1.0.12)\n",
            "Requirement already satisfied: cymem<2.1.0,>=2.0.2 in /usr/local/lib/python3.11/dist-packages (from spacy) (2.0.11)\n",
            "Requirement already satisfied: preshed<3.1.0,>=3.0.2 in /usr/local/lib/python3.11/dist-packages (from spacy) (3.0.9)\n",
            "Requirement already satisfied: thinc<8.4.0,>=8.3.4 in /usr/local/lib/python3.11/dist-packages (from spacy) (8.3.6)\n",
            "Requirement already satisfied: wasabi<1.2.0,>=0.9.1 in /usr/local/lib/python3.11/dist-packages (from spacy) (1.1.3)\n",
            "Requirement already satisfied: srsly<3.0.0,>=2.4.3 in /usr/local/lib/python3.11/dist-packages (from spacy) (2.5.1)\n",
            "Requirement already satisfied: catalogue<2.1.0,>=2.0.6 in /usr/local/lib/python3.11/dist-packages (from spacy) (2.0.10)\n",
            "Requirement already satisfied: weasel<0.5.0,>=0.1.0 in /usr/local/lib/python3.11/dist-packages (from spacy) (0.4.1)\n",
            "Requirement already satisfied: typer<1.0.0,>=0.3.0 in /usr/local/lib/python3.11/dist-packages (from spacy) (0.15.3)\n",
            "Requirement already satisfied: tqdm<5.0.0,>=4.38.0 in /usr/local/lib/python3.11/dist-packages (from spacy) (4.67.1)\n",
            "Requirement already satisfied: numpy>=1.19.0 in /usr/local/lib/python3.11/dist-packages (from spacy) (2.0.2)\n",
            "Requirement already satisfied: requests<3.0.0,>=2.13.0 in /usr/local/lib/python3.11/dist-packages (from spacy) (2.32.3)\n",
            "Requirement already satisfied: pydantic!=1.8,!=1.8.1,<3.0.0,>=1.7.4 in /usr/local/lib/python3.11/dist-packages (from spacy) (2.11.4)\n",
            "Requirement already satisfied: jinja2 in /usr/local/lib/python3.11/dist-packages (from spacy) (3.1.6)\n",
            "Requirement already satisfied: setuptools in /usr/local/lib/python3.11/dist-packages (from spacy) (75.2.0)\n",
            "Requirement already satisfied: packaging>=20.0 in /usr/local/lib/python3.11/dist-packages (from spacy) (24.2)\n",
            "Requirement already satisfied: langcodes<4.0.0,>=3.2.0 in /usr/local/lib/python3.11/dist-packages (from spacy) (3.5.0)\n",
            "Requirement already satisfied: language-data>=1.2 in /usr/local/lib/python3.11/dist-packages (from langcodes<4.0.0,>=3.2.0->spacy) (1.3.0)\n",
            "Requirement already satisfied: annotated-types>=0.6.0 in /usr/local/lib/python3.11/dist-packages (from pydantic!=1.8,!=1.8.1,<3.0.0,>=1.7.4->spacy) (0.7.0)\n",
            "Requirement already satisfied: pydantic-core==2.33.2 in /usr/local/lib/python3.11/dist-packages (from pydantic!=1.8,!=1.8.1,<3.0.0,>=1.7.4->spacy) (2.33.2)\n",
            "Requirement already satisfied: typing-extensions>=4.12.2 in /usr/local/lib/python3.11/dist-packages (from pydantic!=1.8,!=1.8.1,<3.0.0,>=1.7.4->spacy) (4.13.2)\n",
            "Requirement already satisfied: typing-inspection>=0.4.0 in /usr/local/lib/python3.11/dist-packages (from pydantic!=1.8,!=1.8.1,<3.0.0,>=1.7.4->spacy) (0.4.0)\n",
            "Requirement already satisfied: charset-normalizer<4,>=2 in /usr/local/lib/python3.11/dist-packages (from requests<3.0.0,>=2.13.0->spacy) (3.4.1)\n",
            "Requirement already satisfied: idna<4,>=2.5 in /usr/local/lib/python3.11/dist-packages (from requests<3.0.0,>=2.13.0->spacy) (3.10)\n",
            "Requirement already satisfied: urllib3<3,>=1.21.1 in /usr/local/lib/python3.11/dist-packages (from requests<3.0.0,>=2.13.0->spacy) (2.4.0)\n",
            "Requirement already satisfied: certifi>=2017.4.17 in /usr/local/lib/python3.11/dist-packages (from requests<3.0.0,>=2.13.0->spacy) (2025.4.26)\n",
            "Requirement already satisfied: blis<1.4.0,>=1.3.0 in /usr/local/lib/python3.11/dist-packages (from thinc<8.4.0,>=8.3.4->spacy) (1.3.0)\n",
            "Requirement already satisfied: confection<1.0.0,>=0.0.1 in /usr/local/lib/python3.11/dist-packages (from thinc<8.4.0,>=8.3.4->spacy) (0.1.5)\n",
            "Requirement already satisfied: click>=8.0.0 in /usr/local/lib/python3.11/dist-packages (from typer<1.0.0,>=0.3.0->spacy) (8.1.8)\n",
            "Requirement already satisfied: shellingham>=1.3.0 in /usr/local/lib/python3.11/dist-packages (from typer<1.0.0,>=0.3.0->spacy) (1.5.4)\n",
            "Requirement already satisfied: rich>=10.11.0 in /usr/local/lib/python3.11/dist-packages (from typer<1.0.0,>=0.3.0->spacy) (13.9.4)\n",
            "Requirement already satisfied: cloudpathlib<1.0.0,>=0.7.0 in /usr/local/lib/python3.11/dist-packages (from weasel<0.5.0,>=0.1.0->spacy) (0.21.0)\n",
            "Requirement already satisfied: smart-open<8.0.0,>=5.2.1 in /usr/local/lib/python3.11/dist-packages (from weasel<0.5.0,>=0.1.0->spacy) (7.1.0)\n",
            "Requirement already satisfied: MarkupSafe>=2.0 in /usr/local/lib/python3.11/dist-packages (from jinja2->spacy) (3.0.2)\n",
            "Requirement already satisfied: marisa-trie>=1.1.0 in /usr/local/lib/python3.11/dist-packages (from language-data>=1.2->langcodes<4.0.0,>=3.2.0->spacy) (1.2.1)\n",
            "Requirement already satisfied: markdown-it-py>=2.2.0 in /usr/local/lib/python3.11/dist-packages (from rich>=10.11.0->typer<1.0.0,>=0.3.0->spacy) (3.0.0)\n",
            "Requirement already satisfied: pygments<3.0.0,>=2.13.0 in /usr/local/lib/python3.11/dist-packages (from rich>=10.11.0->typer<1.0.0,>=0.3.0->spacy) (2.19.1)\n",
            "Requirement already satisfied: wrapt in /usr/local/lib/python3.11/dist-packages (from smart-open<8.0.0,>=5.2.1->weasel<0.5.0,>=0.1.0->spacy) (1.17.2)\n",
            "Requirement already satisfied: mdurl~=0.1 in /usr/local/lib/python3.11/dist-packages (from markdown-it-py>=2.2.0->rich>=10.11.0->typer<1.0.0,>=0.3.0->spacy) (0.1.2)\n"
          ]
        }
      ],
      "source": [
        "!pip install spacy"
      ]
    },
    {
      "cell_type": "code",
      "source": [
        "!python -m spacy download en_core_web_lg"
      ],
      "metadata": {
        "colab": {
          "base_uri": "https://localhost:8080/"
        },
        "id": "BvZCmg2mDT0m",
        "outputId": "f3264337-04de-4506-b823-f4cd2d84612a"
      },
      "execution_count": 2,
      "outputs": [
        {
          "output_type": "stream",
          "name": "stdout",
          "text": [
            "Collecting en-core-web-lg==3.8.0\n",
            "  Downloading https://github.com/explosion/spacy-models/releases/download/en_core_web_lg-3.8.0/en_core_web_lg-3.8.0-py3-none-any.whl (400.7 MB)\n",
            "\u001b[2K     \u001b[90m━━━━━━━━━━━━━━━━━━━━━━━━━━━━━━━━━━━━━━━\u001b[0m \u001b[32m400.7/400.7 MB\u001b[0m \u001b[31m3.6 MB/s\u001b[0m eta \u001b[36m0:00:00\u001b[0m\n",
            "\u001b[?25hInstalling collected packages: en-core-web-lg\n",
            "Successfully installed en-core-web-lg-3.8.0\n",
            "\u001b[38;5;2m✔ Download and installation successful\u001b[0m\n",
            "You can now load the package via spacy.load('en_core_web_lg')\n",
            "\u001b[38;5;3m⚠ Restart to reload dependencies\u001b[0m\n",
            "If you are in a Jupyter or Colab notebook, you may need to restart Python in\n",
            "order to load all the package's dependencies. You can do this by selecting the\n",
            "'Restart kernel' or 'Restart runtime' option.\n"
          ]
        }
      ]
    },
    {
      "cell_type": "code",
      "source": [
        "!pip install srsly"
      ],
      "metadata": {
        "colab": {
          "base_uri": "https://localhost:8080/"
        },
        "id": "DRB48czGClDl",
        "outputId": "f38cb422-2d80-4471-ce4e-e73d4b6a25fc"
      },
      "execution_count": 1,
      "outputs": [
        {
          "output_type": "stream",
          "name": "stdout",
          "text": [
            "Requirement already satisfied: srsly in /usr/local/lib/python3.11/dist-packages (2.5.1)\n",
            "Requirement already satisfied: catalogue<2.1.0,>=2.0.3 in /usr/local/lib/python3.11/dist-packages (from srsly) (2.0.10)\n"
          ]
        }
      ]
    },
    {
      "cell_type": "code",
      "source": [
        "import json\n",
        "\n",
        "with open(\"spacy_training_data.json\", \"r\") as f:\n",
        "    resume_data = json.load(f)"
      ],
      "metadata": {
        "id": "YTcR_HCuD6aq"
      },
      "execution_count": 2,
      "outputs": []
    },
    {
      "cell_type": "code",
      "source": [
        "len(resume_data)"
      ],
      "metadata": {
        "colab": {
          "base_uri": "https://localhost:8080/"
        },
        "id": "PT72e6q6D6df",
        "outputId": "2b67a8d6-2389-4dff-9b7c-3d910736ff58"
      },
      "execution_count": 3,
      "outputs": [
        {
          "output_type": "execute_result",
          "data": {
            "text/plain": [
              "2961"
            ]
          },
          "metadata": {},
          "execution_count": 3
        }
      ]
    },
    {
      "cell_type": "code",
      "source": [
        "resume_data[0]"
      ],
      "metadata": {
        "colab": {
          "base_uri": "https://localhost:8080/"
        },
        "id": "2G7Ll-9PD6f7",
        "outputId": "b490a2b3-8318-41f7-e96b-8a2b3c89b5e6"
      },
      "execution_count": 4,
      "outputs": [
        {
          "output_type": "execute_result",
          "data": {
            "text/plain": [
              "['Ankita Nagendra Babar babarankita112@gmail.com | 8329004204   Strong proficiency in HTML5, CSS3 and JavaScript   Strong proficiency in JavaScript, including DOM manipulation and JavaScript object model   Hands-on knowledge on ReactJs, Redux   Familiarity with newer specifications of ECMAScript 6   Ability to understand business requirements and translate them into technical requirements   A knack for benchmarking and optimization   Familiarity with code versioning tools (Git)   Understanding of responsive web development with Bootstrap.   Strong verbal and written communication skills. WORK EXPERIENCE O2 Soft Solutions, Pune Nov 2019   Dec2021 Successfully developed and maintained School ERP. Was responsible for developing modules, maintaining and testing them. EDUCATION University of Pune, Pune.   M.E. (Computer Engineering) 2016 First Class(7.5 SGPA) from TSSM s Bhivarabai Sawant College Of Engineering and research, Narhe, Pune   B.E. (Computer Engineering) 2014 Higher Second Class (58.8%) from P.D.E.A.s College Of Engineering, Manjari, Hadapsar, Pune. PROJECTS BRIEF 1. O2 Soft Solutions Overview:   School App and ERP including training to staff at any location.   The app covers every aspect of school management and enhances management capacity and performance of school.   Helps schools to conduct messages Technology: ReactJS, Redux, HTML5, CSS3, ECMAScript 6 PUBLICATIONS: Published the paper titled  Survey on a Modified Approach for Personalized knowledge Discovery Framework for Context Aware Assisted Healthcare  in International Journal of Advanced Research in Computer Science and Management studies (ISSN: 2321-7782) Published the paper titled  A Modified Approach for Personalized Knowledge Discovery Framework for Context Aware Assisted Healthcare  in International Journal of Innovative Research in Computer and Communication Engineering and Research (IJIRCCE) Vol.4 ,Issue 06, June 2016 PERSONAL DETAILS Name: Ankita Nagendra Babar Date of Birth: 22nd Dec 1989 Gender: Female Marital Status: Married Address: Flat No.   C5, Chintamani Garden, Near Jijai Garden, Tapodham Rd, Warje, Pune 411058. DECLARATION Declaration I hereby declare that the above-mentioned information is correct up to my knowledge and I bear the responsibility for the correctness of the above-mentioned particulars. Place: Pune (Ankita Babar)',\n",
              " {'entities': [[0, 21, 'PERSON'],\n",
              "   [22, 46, 'EMAIL'],\n",
              "   [49, 59, 'PHONE'],\n",
              "   [628, 632, 'LOC'],\n",
              "   [84, 89, 'SKILL'],\n",
              "   [91, 95, 'SKILL'],\n",
              "   [100, 110, 'SKILL'],\n",
              "   [157, 173, 'SKILL'],\n",
              "   [178, 201, 'SKILL'],\n",
              "   [226, 233, 'SKILL'],\n",
              "   [235, 240, 'SKILL'],\n",
              "   [284, 296, 'SKILL'],\n",
              "   [476, 479, 'SKILL'],\n",
              "   [532, 541, 'SKILL'],\n",
              "   [500, 526, 'SKILL'],\n",
              "   [810, 837, 'DEGREE'],\n",
              "   [870, 943, 'ORG'],\n",
              "   [838, 842, 'DATE'],\n",
              "   [946, 973, 'DEGREE'],\n",
              "   [1012, 1069, 'ORG'],\n",
              "   [974, 978, 'DATE'],\n",
              "   [1119, 1137, 'PROJECT_TITLE'],\n",
              "   [609, 626, 'PROJECT_ORG']]}]"
            ]
          },
          "metadata": {},
          "execution_count": 4
        }
      ]
    },
    {
      "cell_type": "code",
      "source": [
        "import random\n",
        "from sklearn.model_selection import train_test_split"
      ],
      "metadata": {
        "id": "Zdt2lZvID6it"
      },
      "execution_count": 5,
      "outputs": []
    },
    {
      "cell_type": "code",
      "source": [
        "unique_data = {}\n",
        "for text, ann in resume_data:\n",
        "    key = text.strip().lower()\n",
        "    if key not in unique_data:\n",
        "        unique_data[key] = (text, ann)\n",
        "\n",
        "deduped_data = list(unique_data.values())\n",
        "random.seed(42)\n",
        "random.shuffle(deduped_data)"
      ],
      "metadata": {
        "id": "Jz0fHP9SD6k6"
      },
      "execution_count": 6,
      "outputs": []
    },
    {
      "cell_type": "code",
      "source": [
        "len(deduped_data)"
      ],
      "metadata": {
        "colab": {
          "base_uri": "https://localhost:8080/"
        },
        "id": "VHhVUlcKD6no",
        "outputId": "c142689f-1f0e-484d-fb9d-379de0209182"
      },
      "execution_count": 7,
      "outputs": [
        {
          "output_type": "execute_result",
          "data": {
            "text/plain": [
              "2701"
            ]
          },
          "metadata": {},
          "execution_count": 7
        }
      ]
    },
    {
      "cell_type": "code",
      "source": [
        "train_data, dev_data = train_test_split(deduped_data, test_size = 0.2, random_state = 42)\n"
      ],
      "metadata": {
        "id": "UDRxpUILD6rB"
      },
      "execution_count": 9,
      "outputs": []
    },
    {
      "cell_type": "code",
      "source": [
        "len(train_data)"
      ],
      "metadata": {
        "colab": {
          "base_uri": "https://localhost:8080/"
        },
        "id": "slDrI_zfClI2",
        "outputId": "7f076722-4e8b-4cc4-9c87-78c399b3ca1e"
      },
      "execution_count": 11,
      "outputs": [
        {
          "output_type": "execute_result",
          "data": {
            "text/plain": [
              "2160"
            ]
          },
          "metadata": {},
          "execution_count": 11
        }
      ]
    },
    {
      "cell_type": "code",
      "source": [
        "len(dev_data)"
      ],
      "metadata": {
        "colab": {
          "base_uri": "https://localhost:8080/"
        },
        "id": "rzabqPmKClLZ",
        "outputId": "9398fe91-007c-40cb-bcf7-01d63f531b93"
      },
      "execution_count": 12,
      "outputs": [
        {
          "output_type": "execute_result",
          "data": {
            "text/plain": [
              "541"
            ]
          },
          "metadata": {},
          "execution_count": 12
        }
      ]
    },
    {
      "cell_type": "code",
      "source": [
        "import spacy\n",
        "from spacy.tokens import DocBin\n",
        "from tqdm import tqdm"
      ],
      "metadata": {
        "id": "x2HXK17VClOM"
      },
      "execution_count": 13,
      "outputs": []
    },
    {
      "cell_type": "code",
      "source": [
        "nlp = spacy.blank(\"en\")"
      ],
      "metadata": {
        "id": "4cbzpVRuClRG"
      },
      "execution_count": 14,
      "outputs": []
    },
    {
      "cell_type": "code",
      "source": [
        "def save_data_to_spacy_file(data, nlp, output_path, log_path=None):\n",
        "    doc_bin = DocBin()\n",
        "    with open(log_path, \"w\") if log_path else open(\"/dev/null\", \"w\") as log_file:\n",
        "        for text, annot in tqdm(data):\n",
        "            doc = nlp.make_doc(text)\n",
        "            ents = []\n",
        "            entity_indices = set()\n",
        "            for start, end, label in annot[\"entities\"]:\n",
        "                if any(i in entity_indices for i in range(start, end)):\n",
        "                    continue\n",
        "                span = doc.char_span(start, end, label = label, alignment_mode = \"contract\")\n",
        "                if span is None:\n",
        "                    log_file.write(f\"Skipping: {text[start:end]} ({start}-{end}) [{label}]\\n\")\n",
        "                    continue\n",
        "                ents.append(span)\n",
        "                entity_indices.update(range(start, end))\n",
        "            doc.ents = ents\n",
        "            doc_bin.add(doc)\n",
        "    doc_bin.to_disk(output_path)"
      ],
      "metadata": {
        "id": "Son8qnsPClS-"
      },
      "execution_count": 15,
      "outputs": []
    },
    {
      "cell_type": "code",
      "source": [
        "save_data_to_spacy_file(train_data, nlp, \"train.spacy\", log_path=\"skipped_train.txt\")\n",
        "save_data_to_spacy_file(dev_data, nlp, \"dev.spacy\", log_path=\"skipped_dev.txt\")"
      ],
      "metadata": {
        "colab": {
          "base_uri": "https://localhost:8080/"
        },
        "id": "t6r57YRFClVm",
        "outputId": "a508d372-91cc-44ef-d057-5dfba1ef9639"
      },
      "execution_count": 16,
      "outputs": [
        {
          "output_type": "stream",
          "name": "stderr",
          "text": [
            "100%|██████████| 2160/2160 [00:14<00:00, 146.64it/s]\n",
            "100%|██████████| 541/541 [00:03<00:00, 149.69it/s]\n"
          ]
        }
      ]
    },
    {
      "cell_type": "code",
      "source": [
        "!python -m spacy init config base_config.cfg --lang en --pipeline ner --optimize accuracy --force"
      ],
      "metadata": {
        "colab": {
          "base_uri": "https://localhost:8080/"
        },
        "id": "RocNIZG8ClYR",
        "outputId": "4f342bff-161a-4b85-ff76-7eedf7f10805"
      },
      "execution_count": 17,
      "outputs": [
        {
          "output_type": "stream",
          "name": "stdout",
          "text": [
            "\u001b[38;5;3m⚠ To generate a more effective transformer-based config (GPU-only),\n",
            "install the spacy-transformers package and re-run this command. The config\n",
            "generated now does not use transformers.\u001b[0m\n",
            "\u001b[38;5;4mℹ Generated config template specific for your use case\u001b[0m\n",
            "- Language: en\n",
            "- Pipeline: ner\n",
            "- Optimize for: accuracy\n",
            "- Hardware: CPU\n",
            "- Transformer: None\n",
            "\u001b[38;5;2m✔ Auto-filled config with all values\u001b[0m\n",
            "\u001b[38;5;2m✔ Saved config\u001b[0m\n",
            "base_config.cfg\n",
            "You can now add your data and train your pipeline:\n",
            "python -m spacy train base_config.cfg --paths.train ./train.spacy --paths.dev ./dev.spacy\n"
          ]
        }
      ]
    },
    {
      "cell_type": "code",
      "source": [
        "spacy.require_gpu()\n",
        "\n",
        "!python -m spacy train /content/base_config.cfg --output ./output \\\n",
        "    --paths.train /content/train.spacy --paths.dev /content/dev.spacy --gpu-id 0"
      ],
      "metadata": {
        "colab": {
          "base_uri": "https://localhost:8080/"
        },
        "id": "DkwTvSQ0Cla9",
        "outputId": "bdf0fef0-3920-4e4f-d449-3ad4530b8ae6"
      },
      "execution_count": 19,
      "outputs": [
        {
          "output_type": "stream",
          "name": "stdout",
          "text": [
            "\u001b[38;5;4mℹ Saving to output directory: output\u001b[0m\n",
            "\u001b[38;5;4mℹ Using GPU: 0\u001b[0m\n",
            "\u001b[1m\n",
            "=========================== Initializing pipeline ===========================\u001b[0m\n",
            "\u001b[38;5;2m✔ Initialized pipeline\u001b[0m\n",
            "\u001b[1m\n",
            "============================= Training pipeline =============================\u001b[0m\n",
            "\u001b[38;5;4mℹ Pipeline: ['tok2vec', 'ner']\u001b[0m\n",
            "\u001b[38;5;4mℹ Initial learn rate: 0.001\u001b[0m\n",
            "E    #       LOSS TOK2VEC  LOSS NER  ENTS_F  ENTS_P  ENTS_R  SCORE \n",
            "---  ------  ------------  --------  ------  ------  ------  ------\n",
            "  0       0          0.00    807.40    0.00    0.00    0.00    0.00\n",
            "  0     200       2000.08  22288.26   26.91   33.22   22.62    0.27\n",
            "  0     400       1297.03  14644.01   24.44   44.33   16.87    0.27\n",
            "  0     600        474.78  12218.41   14.71   45.51    8.77    0.20\n",
            "  0     800        284.73  10959.60   33.46   52.43   24.57    0.35\n",
            "  0    1000        728.63  12732.29   24.22   56.31   15.43    0.29\n",
            "  0    1200        250.57  12569.83   27.42   45.79   19.57    0.30\n",
            "  0    1400        267.30  11807.74   31.51   56.74   21.81    0.35\n",
            "  0    1600        297.43  12170.67   35.27   48.44   27.73    0.36\n",
            "  0    1800        489.86  11635.44   32.78   57.59   22.91    0.36\n",
            "  0    2000        337.82  10839.50   31.73   54.92   22.31    0.34\n",
            "  1    2200        286.93  11119.33   32.16   55.21   22.68    0.35\n",
            "  1    2400        303.79  10379.19   44.13   40.61   48.33    0.44\n",
            "  1    2600        413.81  11458.31   44.42   49.40   40.35    0.45\n",
            "  1    2800        365.73  11065.95   44.70   47.88   41.91    0.45\n",
            "  1    3000        497.74  10807.44   39.58   50.13   32.70    0.40\n",
            "  1    3200        328.30  10500.47   46.49   46.67   46.31    0.46\n",
            "  1    3400        318.49  11143.64   45.17   49.96   41.22    0.45\n",
            "  1    3600        393.60  11010.38   45.38   43.46   47.47    0.45\n",
            "  1    3800        310.00   9659.54   44.80   54.76   37.91    0.45\n",
            "  1    4000        377.92  11016.64   31.07   70.55   19.93    0.37\n",
            "  1    4200        400.32  10991.42   43.42   59.93   34.04    0.45\n",
            "  2    4400        488.24  10083.37   44.48   47.74   41.63    0.45\n",
            "  2    4600        454.01  10240.81   36.59   62.38   25.89    0.40\n",
            "  2    4800        415.42   9648.89   45.68   54.21   39.47    0.46\n",
            "  2    5000        516.40   9423.34   50.22   45.79   55.61    0.50\n",
            "  2    5200        504.05  11422.33   35.80   65.55   24.62    0.40\n",
            "  2    5400        459.67  10108.10   37.27   67.35   25.76    0.41\n",
            "  2    5600       1235.74  10525.84   44.49   56.51   36.68    0.45\n",
            "  2    5800        472.45   9729.46   40.40   61.39   30.11    0.43\n",
            "  2    6000        505.11   9857.28   48.24   48.13   48.35    0.48\n",
            "  2    6200        508.93  10238.54   43.56   60.60   33.99    0.45\n",
            "  2    6400        539.13  10472.43   44.72   54.84   37.76    0.45\n",
            "  3    6600        449.44   8797.28   39.38   66.28   28.01    0.42\n",
            "  3    6800        504.35   9977.29   43.22   59.79   33.84    0.45\n",
            "  3    7000        626.68   9874.17   45.64   60.00   36.83    0.47\n",
            "  3    7200        563.63   9708.84   50.97   46.31   56.68    0.51\n",
            "  3    7400        638.73   9585.45   51.09   45.39   58.42    0.51\n",
            "  3    7600        772.67   9909.71   47.34   58.53   39.74    0.48\n",
            "  3    7800        550.73   9353.50   47.37   58.58   39.76    0.48\n",
            "  3    8000       1006.86  10043.37   48.57   54.82   43.60    0.49\n",
            "  3    8200       1213.28  10578.97   41.40   62.69   30.90    0.44\n",
            "  3    8400        573.57  10047.01   51.25   47.96   55.04    0.51\n",
            "  4    8600        763.40   9825.36   45.64   58.23   37.53    0.47\n",
            "  4    8800        966.95   8671.05   50.75   47.48   54.50    0.51\n",
            "  4    9000        894.03   8874.41   39.86   67.90   28.21    0.43\n",
            "  4    9200        712.37   9479.09   44.69   59.79   35.68    0.46\n",
            "  4    9400       4112.84   9654.62   49.42   53.41   45.99    0.50\n",
            "  4    9600        806.16   9609.83   39.61   64.98   28.48    0.42\n",
            "  4    9800        780.02   9229.51   50.66   48.25   53.32    0.51\n",
            "  4   10000        808.32   9455.59   48.27   56.25   42.28    0.49\n",
            "  4   10200        706.06   9114.41   46.99   58.19   39.41    0.48\n",
            "  4   10400        744.12   9315.22   45.70   58.06   37.67    0.47\n",
            "  4   10600        815.61   9685.73   51.02   48.94   53.28    0.51\n",
            "  5   10800        842.60   9793.92   48.68   57.94   41.97    0.49\n",
            "  5   11000        822.05   8917.99   47.42   59.59   39.37    0.48\n",
            "  5   11200        940.07   9567.97   46.65   62.07   37.36    0.48\n",
            "  5   11400        884.88   9255.95   45.31   58.93   36.81    0.46\n",
            "  5   11600       1435.11   9320.70   45.55   61.22   36.27    0.47\n",
            "  5   11800        844.98   8350.03   40.53   64.81   29.49    0.43\n",
            "  5   12000        905.78   8874.46   51.65   50.62   52.72    0.52\n",
            "  5   12200        950.21   9323.95   46.50   59.21   38.28    0.47\n",
            "  5   12400       1362.25   9265.66   47.29   61.86   38.27    0.48\n",
            "  5   12600       1177.37   8727.94   51.78   51.24   52.34    0.52\n",
            "  5   12800        949.03   8692.54   50.39   53.42   47.69    0.50\n",
            "  6   13000       2071.05   9264.66   52.29   47.27   58.51    0.53\n",
            "  6   13200      92011.55   8564.81   48.66   58.20   41.81    0.49\n",
            "  6   13400       1418.69   8996.85   41.77   65.87   30.58    0.44\n",
            "  6   13600       1137.04   8291.96   50.71   54.14   47.69    0.51\n",
            "  6   13800       1048.98   8700.17   51.23   42.56   64.33    0.52\n",
            "  6   14000       1017.91   8192.17   44.74   59.24   35.95    0.46\n",
            "  6   14200       1086.64   9725.35   52.07   52.90   51.26    0.52\n",
            "  6   14400       1352.82   9065.46   51.79   54.44   49.39    0.52\n",
            "  6   14600       1127.42   8867.88   42.51   59.95   32.93    0.44\n",
            "  6   14800       1200.70   8423.33   50.14   56.61   45.00    0.50\n",
            "  7   15000       1167.97   8729.82   52.83   45.91   62.20    0.53\n",
            "\u001b[38;5;2m✔ Saved pipeline to output directory\u001b[0m\n",
            "output/model-last\n"
          ]
        }
      ]
    },
    {
      "cell_type": "code",
      "source": [
        "!python -m spacy evaluate --gpu-id 0 output/model-best dev.spacy"
      ],
      "metadata": {
        "colab": {
          "base_uri": "https://localhost:8080/"
        },
        "id": "FoYcoKYFCldt",
        "outputId": "ce3aecb0-144b-4ffa-874b-0f4712c5dab6"
      },
      "execution_count": 20,
      "outputs": [
        {
          "output_type": "stream",
          "name": "stdout",
          "text": [
            "\u001b[38;5;4mℹ Using GPU: 0\u001b[0m\n",
            "\u001b[1m\n",
            "================================== Results ==================================\u001b[0m\n",
            "\n",
            "TOK     100.00\n",
            "NER P   45.80 \n",
            "NER R   62.27 \n",
            "NER F   52.78 \n",
            "SPEED   52603 \n",
            "\n",
            "\u001b[1m\n",
            "=============================== NER (per type) ===============================\u001b[0m\n",
            "\n",
            "                       P       R       F\n",
            "PERSON             77.57   73.13   75.28\n",
            "PHONE              85.10   96.23   90.32\n",
            "SKILL              40.69   63.91   49.73\n",
            "EMAIL              90.10   98.24   93.99\n",
            "ORG                56.21   61.64   58.80\n",
            "DATE               73.64   78.73   76.10\n",
            "PROJECT_ORG        31.40   42.68   36.18\n",
            "PROJECT_TITLE      60.57   45.57   52.01\n",
            "DEGREE             75.71   79.64   77.63\n",
            "LOC                56.84   17.25   26.47\n",
            "CERTIFICATION      47.41   22.46   30.48\n",
            "PROJECT_DURATION   58.21   47.33   52.21\n",
            "\n"
          ]
        }
      ]
    },
    {
      "cell_type": "code",
      "source": [
        "!pip install PyPDF2"
      ],
      "metadata": {
        "colab": {
          "base_uri": "https://localhost:8080/"
        },
        "id": "_-ANdfaqRuNZ",
        "outputId": "8ce52f0a-42c5-4639-9fd2-c85e6d323b94"
      },
      "execution_count": 21,
      "outputs": [
        {
          "output_type": "stream",
          "name": "stdout",
          "text": [
            "Collecting PyPDF2\n",
            "  Downloading pypdf2-3.0.1-py3-none-any.whl.metadata (6.8 kB)\n",
            "Downloading pypdf2-3.0.1-py3-none-any.whl (232 kB)\n",
            "\u001b[?25l   \u001b[90m━━━━━━━━━━━━━━━━━━━━━━━━━━━━━━━━━━━━━━━━\u001b[0m \u001b[32m0.0/232.6 kB\u001b[0m \u001b[31m?\u001b[0m eta \u001b[36m-:--:--\u001b[0m\r\u001b[2K   \u001b[90m━━━━━━━━━━━━━━━━━━━━━━━━━━━━━━━━━━━━━━━━\u001b[0m \u001b[32m232.6/232.6 kB\u001b[0m \u001b[31m21.7 MB/s\u001b[0m eta \u001b[36m0:00:00\u001b[0m\n",
            "\u001b[?25hInstalling collected packages: PyPDF2\n",
            "Successfully installed PyPDF2-3.0.1\n"
          ]
        }
      ]
    },
    {
      "cell_type": "code",
      "source": [
        "import spacy\n",
        "import re\n",
        "from PyPDF2 import PdfReader\n",
        "\n",
        "nlp = spacy.load(\"output/model-best\")\n",
        "\n",
        "def clean_resume(text):\n",
        "    text = re.sub(r'\\s+', ' ', text)\n",
        "    text = text.encode('ascii', errors='ignore').decode()\n",
        "    text = text.strip()\n",
        "    return text\n",
        "\n",
        "pdf_path = \"/content/Aakash_Nihalani_Resume_22-05-2022-23-00-20 (1).pdf\"\n",
        "\n",
        "reader = PdfReader(pdf_path)\n",
        "extracted_text = ''\n",
        "for page in reader.pages:\n",
        "    if page.extract_text():\n",
        "        extracted_text += page.extract_text()\n",
        "\n",
        "cleaned_resume = clean_resume(extracted_text)\n",
        "\n",
        "doc = nlp(cleaned_resume)\n",
        "\n",
        "print(\"Entities found in Resume:\")\n",
        "print(\"=\"*30)\n",
        "for ent in doc.ents:\n",
        "    print(f\"{ent.text} --> {ent.label_}\")"
      ],
      "metadata": {
        "colab": {
          "base_uri": "https://localhost:8080/"
        },
        "id": "6lF-yRV3RuPk",
        "outputId": "d31f6a03-f762-4e58-a615-48f64e48facf"
      },
      "execution_count": 22,
      "outputs": [
        {
          "output_type": "stream",
          "name": "stdout",
          "text": [
            "Entities found in Resume:\n",
            "==============================\n",
            "Aakash Nihalani --> PERSON\n",
            "Bangalore, India --> LOC\n",
            "+91-9737604171 --> PHONE\n",
            "aakashnihalani26@gmail.com --> EMAIL\n",
            "Python --> SKILL\n",
            "Django --> SKILL\n",
            "React --> SKILL\n",
            "Golang --> SKILL\n",
            "Bachelor of Technology, Computer Science --> DEGREE\n",
            "Nirma University --> ORG\n",
            "Python --> SKILL\n",
            "Javascript --> SKILL\n",
            "Typescript --> SKILL\n",
            "SQL --> SKILL\n",
            "Django --> SKILL\n",
            "Airflow --> SKILL\n",
            "git --> SKILL\n",
            "MySQL --> SKILL\n",
            "Splunk --> SKILL\n",
            "CircleCI --> SKILL\n",
            "Redis --> SKILL\n",
            "Nginx --> SKILL\n",
            "Blockchain --> SKILL\n",
            "Bitcoin --> SKILL\n",
            "Django --> SKILL\n",
            "MySQL --> SKILL\n",
            "Celery --> SKILL\n",
            "Router --> SKILL\n",
            "Splunk --> SKILL\n",
            "Virtual Report Analyzer --> PROJECT_TITLE\n",
            "Medical Assistant Application --> PROJECT_TITLE\n"
          ]
        }
      ]
    },
    {
      "cell_type": "code",
      "source": [
        "import spacy\n",
        "import re\n",
        "from PyPDF2 import PdfReader\n",
        "\n",
        "nlp = spacy.load(\"output/model-best\")\n",
        "\n",
        "def clean_resume(text):\n",
        "    text = re.sub(r'\\s+', ' ', text)\n",
        "    text = text.encode('ascii', errors='ignore').decode()\n",
        "    text = text.strip()\n",
        "    return text\n",
        "\n",
        "pdf_path = \"/content/Abhishek Sahu Python Developer 6.2.pdf\"\n",
        "\n",
        "reader = PdfReader(pdf_path)\n",
        "extracted_text = ''\n",
        "for page in reader.pages:\n",
        "    if page.extract_text():\n",
        "        extracted_text += page.extract_text()\n",
        "\n",
        "cleaned_resume = clean_resume(extracted_text)\n",
        "\n",
        "doc = nlp(cleaned_resume)\n",
        "\n",
        "print(\"Entities found in Resume:\")\n",
        "print(\"=\"*30)\n",
        "for ent in doc.ents:\n",
        "    print(f\"{ent.text} --> {ent.label_}\")"
      ],
      "metadata": {
        "colab": {
          "base_uri": "https://localhost:8080/"
        },
        "id": "racogcA9RuRx",
        "outputId": "fe03d6bf-c192-4dd6-eab8-b6e502faaf50"
      },
      "execution_count": 24,
      "outputs": [
        {
          "output_type": "stream",
          "name": "stdout",
          "text": [
            "Entities found in Resume:\n",
            "==============================\n",
            "Abhishek Sahu --> PERSON\n",
            "Python --> SKILL\n",
            "Python --> SKILL\n",
            "Postgresql --> SKILL\n",
            "Pandas --> SKILL\n",
            "Django --> SKILL\n",
            "NumPy --> SKILL\n",
            "AWS --> SKILL\n",
            "Python --> SKILL\n",
            "Capgemini Private Limited --> PROJECT_ORG\n",
            "Pandas --> SKILL\n",
            "Python --> SKILL\n",
            "Resources Global Professionals --> PROJECT_ORG\n",
            "13 April 2021 - Present --> PROJECT_DURATION\n",
            "abhisheksahu92@outlook.com --> EMAIL\n",
            "Amity University --> ORG\n",
            "Bachelor of Technology in Computer Science --> DEGREE\n",
            "04/2011-03/2015 --> DATE\n",
            "Tata Consultancy Services --> PROJECT_ORG\n",
            "Pandas --> SKILL\n",
            "Python --> SKILL\n",
            "AWS Fundamentals: Building Serverless ApplicationsPython --> CERTIFICATION\n",
            "Python --> SKILL\n",
            "RERERENCES Suzanna Williams --> ORG\n",
            "+91-974-036-8585 --> PHONE\n",
            "+91-998-784-3607 --> PHONE\n",
            "Deloitte --> PROJECT_ORG\n",
            "+91-917-688-4492 --> PHONE\n"
          ]
        }
      ]
    },
    {
      "cell_type": "code",
      "source": [
        "import shutil\n",
        "\n",
        "model_path = \"output/model-best\"\n",
        "\n",
        "zip_path = \"model-best.zip\"\n",
        "\n",
        "shutil.make_archive(\"model-best\", 'zip', model_path)"
      ],
      "metadata": {
        "colab": {
          "base_uri": "https://localhost:8080/",
          "height": 36
        },
        "id": "C3trApWSRuUD",
        "outputId": "aa3db52f-265c-4f6b-d6ef-7e75bf31a09f"
      },
      "execution_count": 25,
      "outputs": [
        {
          "output_type": "execute_result",
          "data": {
            "text/plain": [
              "'/content/model-best.zip'"
            ],
            "application/vnd.google.colaboratory.intrinsic+json": {
              "type": "string"
            }
          },
          "metadata": {},
          "execution_count": 25
        }
      ]
    },
    {
      "cell_type": "code",
      "source": [
        "from google.colab import files\n",
        "files.download(\"model-best.zip\")"
      ],
      "metadata": {
        "colab": {
          "base_uri": "https://localhost:8080/",
          "height": 17
        },
        "id": "By4C-XJkRuV_",
        "outputId": "3e00e044-ffad-4dba-bfa6-df94aca04e57"
      },
      "execution_count": 26,
      "outputs": [
        {
          "output_type": "display_data",
          "data": {
            "text/plain": [
              "<IPython.core.display.Javascript object>"
            ],
            "application/javascript": [
              "\n",
              "    async function download(id, filename, size) {\n",
              "      if (!google.colab.kernel.accessAllowed) {\n",
              "        return;\n",
              "      }\n",
              "      const div = document.createElement('div');\n",
              "      const label = document.createElement('label');\n",
              "      label.textContent = `Downloading \"${filename}\": `;\n",
              "      div.appendChild(label);\n",
              "      const progress = document.createElement('progress');\n",
              "      progress.max = size;\n",
              "      div.appendChild(progress);\n",
              "      document.body.appendChild(div);\n",
              "\n",
              "      const buffers = [];\n",
              "      let downloaded = 0;\n",
              "\n",
              "      const channel = await google.colab.kernel.comms.open(id);\n",
              "      // Send a message to notify the kernel that we're ready.\n",
              "      channel.send({})\n",
              "\n",
              "      for await (const message of channel.messages) {\n",
              "        // Send a message to notify the kernel that we're ready.\n",
              "        channel.send({})\n",
              "        if (message.buffers) {\n",
              "          for (const buffer of message.buffers) {\n",
              "            buffers.push(buffer);\n",
              "            downloaded += buffer.byteLength;\n",
              "            progress.value = downloaded;\n",
              "          }\n",
              "        }\n",
              "      }\n",
              "      const blob = new Blob(buffers, {type: 'application/binary'});\n",
              "      const a = document.createElement('a');\n",
              "      a.href = window.URL.createObjectURL(blob);\n",
              "      a.download = filename;\n",
              "      div.appendChild(a);\n",
              "      a.click();\n",
              "      div.remove();\n",
              "    }\n",
              "  "
            ]
          },
          "metadata": {}
        },
        {
          "output_type": "display_data",
          "data": {
            "text/plain": [
              "<IPython.core.display.Javascript object>"
            ],
            "application/javascript": [
              "download(\"download_eea10a0f-8491-448c-b93d-7baa17fe969c\", \"model-best.zip\", 32545630)"
            ]
          },
          "metadata": {}
        }
      ]
    },
    {
      "cell_type": "code",
      "source": [],
      "metadata": {
        "id": "ss8nXrT5RuZa"
      },
      "execution_count": null,
      "outputs": []
    },
    {
      "cell_type": "code",
      "source": [],
      "metadata": {
        "id": "msGhbLyRClhO"
      },
      "execution_count": null,
      "outputs": []
    }
  ]
}